{
 "cells": [
  {
   "cell_type": "markdown",
   "metadata": {},
   "source": [
    "# Question"
   ]
  },
  {
   "cell_type": "markdown",
   "metadata": {},
   "source": [
    "### Why is it not improving after boosting? why predicted values of errors after 1st tree always 0? Is it because I am taking only 1 variable and 1 layer?"
   ]
  },
  {
   "cell_type": "code",
   "execution_count": 1,
   "metadata": {},
   "outputs": [],
   "source": [
    "%load_ext autoreload\n",
    "%autoreload 2"
   ]
  },
  {
   "cell_type": "code",
   "execution_count": 2,
   "metadata": {},
   "outputs": [],
   "source": [
    "%matplotlib inline\n",
    "\n",
    "from fastai.imports import *\n",
    "from fastai.structured import *\n",
    "from IPython.display import display\n",
    "from sklearn import metrics"
   ]
  },
  {
   "cell_type": "code",
   "execution_count": 99,
   "metadata": {},
   "outputs": [],
   "source": [
    "# will take only 1 x here. So simplyfying this class/method\n",
    "\n",
    "def std_agg(cnt, s1, s2): return math.sqrt((s2/cnt) - (s1/cnt)**2)\n",
    "\n",
    "class SimpleDecisionTree():\n",
    "    def __init__(self, x, y):\n",
    "        self.x, self.y = x, y\n",
    "        self.n = len(x)\n",
    "        #self.val = np.mean(y)\n",
    "        self.score = float('inf')\n",
    "    \n",
    "    def find_btr_splt(self):\n",
    "        sort_idx = np.argsort(x)  # give indexes -> ascending\n",
    "        sort_y,sort_x = y[sort_idx], x[sort_idx]\n",
    "        rhs_cnt,rhs_sum,rhs_sum2 = self.n, sort_y.sum(), (sort_y**2).sum()\n",
    "        lhs_cnt,lhs_sum,lhs_sum2 = 0,0.,0.\n",
    "        \n",
    "        for i in range(0,self.n-2):\n",
    "            xi,yi = sort_x[i],sort_y[i]\n",
    "            lhs_cnt += 1; rhs_cnt -= 1\n",
    "            lhs_sum += yi; rhs_sum -= yi\n",
    "            lhs_sum2 += yi**2; rhs_sum2 -= yi**2\n",
    "            if i<1 or xi==sort_x[i+1]:\n",
    "                continue\n",
    "\n",
    "            lhs_std = std_agg(lhs_cnt, lhs_sum, lhs_sum2)\n",
    "            rhs_std = std_agg(rhs_cnt, rhs_sum, rhs_sum2)\n",
    "            curr_score = lhs_std*lhs_cnt + rhs_std*rhs_cnt\n",
    "            if curr_score<self.score: \n",
    "                self.score,self.split = curr_score,xi\n",
    "                \n",
    "    @property\n",
    "    def is_leaf(self): return self.score == float('inf')\n",
    "                \n",
    "    def __repr__(self):\n",
    "        s = f'n: {self.n}'\n",
    "        if not self.is_leaf:\n",
    "            s += f'; score:{self.score}; split:{self.split}'\n",
    "        return s\n",
    "        "
   ]
  },
  {
   "cell_type": "markdown",
   "metadata": {},
   "source": [
    "## simulated data"
   ]
  },
  {
   "cell_type": "code",
   "execution_count": 438,
   "metadata": {},
   "outputs": [],
   "source": [
    "# x1 = np.random.uniform(0,2,10) \n",
    "# x2 = np.random.uniform(3,10,10) \n",
    "# x3 = np.array([10.5, 11.7, 11.9, 12.3, 14.2])\n",
    "# x4 = np.random.uniform(15,17,5)\n",
    "\n",
    "# x = np.concatenate((x1, x2, x3, x4))\n",
    "\n",
    "x = np.arange(0,50)"
   ]
  },
  {
   "cell_type": "code",
   "execution_count": 439,
   "metadata": {},
   "outputs": [
    {
     "data": {
      "text/plain": [
       "(array([ 0,  1,  2,  3,  4,  5,  6,  7,  8,  9, 10, 11, 12, 13, 14, 15, 16, 17, 18, 19, 20, 21, 22, 23, 24, 25,\n",
       "        26, 27, 28, 29, 30, 31, 32, 33, 34, 35, 36, 37, 38, 39, 40, 41, 42, 43, 44, 45, 46, 47, 48, 49]),\n",
       " 50)"
      ]
     },
     "execution_count": 439,
     "metadata": {},
     "output_type": "execute_result"
    }
   ],
   "source": [
    "x, len(x)"
   ]
  },
  {
   "cell_type": "code",
   "execution_count": 538,
   "metadata": {},
   "outputs": [
    {
     "data": {
      "text/plain": [
       "(array([ 18.40807,  18.3318 ,  17.95439,  19.67335,  18.98169,  17.25906,  17.1571 ,  19.84594,  18.28242,\n",
       "         18.53482,  18.58394,  19.76573,  17.3511 ,  17.6951 ,  17.55259,  15.3    ,  14.2    ,  13.6    ,\n",
       "         12.7    ,  10.2    ,   9.4    ,  12.2    ,  13.     ,  13.3    ,  16.2    ,  14.2    ,  15.7    ,\n",
       "         66.     ,  50.     ,  52.     ,  20.76591,  16.04202,  25.19873,  16.12253,  22.25406,  21.40101,\n",
       "         16.17   ,  15.85754,  18.87107,  22.52571,  21.76044,  21.77742,  20.9608 ,  20.91235,  19.66087,\n",
       "         19.81815,  20.95567,  21.53598,  18.08774,  21.18771]), 50)"
      ]
     },
     "execution_count": 538,
     "metadata": {},
     "output_type": "execute_result"
    }
   ],
   "source": [
    "y1 = np.random.uniform(17,20,15)\n",
    "y2 = np.array([15.3, 14.2, 13.6, 12.7,10.2])  # 10.5, 11.9, 9.1, 8.8, 9.5\n",
    "y3 = np.array([9.4, 12.2, 13, 13.3, 16.2, 14.2, 15.7, 66, 50, 52])  # introduced 3 outliers\n",
    "y4 = np.random.normal(20,3,10)\n",
    "y5 = np.random.uniform(18,22,10)\n",
    "\n",
    "y = np.concatenate((y1,y2,y3,y4,y5))\n",
    "y, len(y)"
   ]
  },
  {
   "cell_type": "markdown",
   "metadata": {},
   "source": [
    "## plot of data"
   ]
  },
  {
   "cell_type": "code",
   "execution_count": 539,
   "metadata": {},
   "outputs": [
    {
     "data": {
      "text/plain": [
       "Text(0,0.5,'y')"
      ]
     },
     "execution_count": 539,
     "metadata": {},
     "output_type": "execute_result"
    },
    {
     "data": {
      "image/png": "[encoded data removed]",
      "text/plain": [
       "<matplotlib.figure.Figure at 0x1c276b2550>"
      ]
     },
     "metadata": {},
     "output_type": "display_data"
    }
   ],
   "source": [
    "plt.scatter(x,y)\n",
    "plt.title(\"Scatter plot of x vs. y\")\n",
    "plt.xlabel(\"x\")\n",
    "plt.ylabel(\"y\")"
   ]
  },
  {
   "cell_type": "markdown",
   "metadata": {},
   "source": [
    "## 1st tree"
   ]
  },
  {
   "cell_type": "code",
   "execution_count": 540,
   "metadata": {},
   "outputs": [],
   "source": [
    "tree = SimpleDecisionTree(x,y)"
   ]
  },
  {
   "cell_type": "code",
   "execution_count": 541,
   "metadata": {},
   "outputs": [],
   "source": [
    "tree.find_btr_splt()"
   ]
  },
  {
   "cell_type": "code",
   "execution_count": 542,
   "metadata": {},
   "outputs": [
    {
     "data": {
      "text/plain": [
       "n: 50; score:367.32426202250673; split:26"
      ]
     },
     "execution_count": 542,
     "metadata": {},
     "output_type": "execute_result"
    }
   ],
   "source": [
    "tree"
   ]
  },
  {
   "cell_type": "markdown",
   "metadata": {},
   "source": [
    "### making line for split"
   ]
  },
  {
   "cell_type": "code",
   "execution_count": 543,
   "metadata": {},
   "outputs": [
    {
     "name": "stdout",
     "output_type": "stream",
     "text": [
      "26\n",
      "50\n"
     ]
    }
   ],
   "source": [
    "r = np.where(x == tree.split)[0][0]\n",
    "print(r)\n",
    "\n",
    "n = len(y)\n",
    "print(n)"
   ]
  },
  {
   "cell_type": "code",
   "execution_count": 544,
   "metadata": {},
   "outputs": [],
   "source": [
    "left_idx = np.where(x <= tree.split)[0]\n",
    "right_idx = np.where(x > tree.split)[0]"
   ]
  },
  {
   "cell_type": "code",
   "execution_count": 545,
   "metadata": {},
   "outputs": [],
   "source": [
    "ypred = np.zeros(n)\n",
    "np.put(ypred, left_idx, np.repeat(np.mean(y[left_idx]), r))  # replace left side mean y\n",
    "np.put(ypred, right_idx, np.repeat(np.mean(y[right_idx]), n-r))  # right side mean y"
   ]
  },
  {
   "cell_type": "code",
   "execution_count": 546,
   "metadata": {},
   "outputs": [
    {
     "data": {
      "text/plain": [
       "array([ 0,  1,  2,  3,  4,  5,  6,  7,  8,  9, 10, 11, 12, 13, 14, 15, 16, 17, 18, 19, 20, 21, 22, 23, 24, 25,\n",
       "       26, 27, 28, 29, 30, 31, 32, 33, 34, 35, 36, 37, 38, 39, 40, 41, 42, 43, 44, 45, 46, 47, 48, 49])"
      ]
     },
     "execution_count": 546,
     "metadata": {},
     "output_type": "execute_result"
    }
   ],
   "source": [
    "x"
   ]
  },
  {
   "cell_type": "code",
   "execution_count": 547,
   "metadata": {
    "scrolled": true
   },
   "outputs": [
    {
     "data": {
      "text/plain": [
       "array([ 16.12508,  16.12508,  16.12508,  16.12508,  16.12508,  16.12508,  16.12508,  16.12508,  16.12508,\n",
       "        16.12508,  16.12508,  16.12508,  16.12508,  16.12508,  16.12508,  16.12508,  16.12508,  16.12508,\n",
       "        16.12508,  16.12508,  16.12508,  16.12508,  16.12508,  16.12508,  16.12508,  16.12508,  16.12508,\n",
       "        24.77677,  24.77677,  24.77677,  24.77677,  24.77677,  24.77677,  24.77677,  24.77677,  24.77677,\n",
       "        24.77677,  24.77677,  24.77677,  24.77677,  24.77677,  24.77677,  24.77677,  24.77677,  24.77677,\n",
       "        24.77677,  24.77677,  24.77677,  24.77677,  24.77677])"
      ]
     },
     "execution_count": 547,
     "metadata": {},
     "output_type": "execute_result"
    }
   ],
   "source": [
    "ypred"
   ]
  },
  {
   "cell_type": "code",
   "execution_count": 548,
   "metadata": {},
   "outputs": [
    {
     "data": {
      "text/plain": [
       "(array([  2.283  ,   2.20672,   1.82932,   3.54827,   2.85661,   1.13398,   1.03202,   3.72086,   2.15735,\n",
       "          2.40974,   2.45886,   3.64065,   1.22602,   1.57003,   1.42751,  -0.82508,  -1.92508,  -2.52508,\n",
       "         -3.42508,  -5.92508,  -6.72508,  -3.92508,  -3.12508,  -2.82508,   0.07492,  -1.92508,  -0.42508,\n",
       "         41.22323,  25.22323,  27.22323,  -4.01086,  -8.73475,   0.42196,  -8.65424,  -2.52271,  -3.37576,\n",
       "         -8.60677,  -8.91923,  -5.9057 ,  -2.25106,  -3.01633,  -2.99935,  -3.81597,  -3.86442,  -5.1159 ,\n",
       "         -4.95862,  -3.8211 ,  -3.24079,  -6.68903,  -3.58906]),\n",
       " 1.4210854715202004e-16)"
      ]
     },
     "execution_count": 548,
     "metadata": {},
     "output_type": "execute_result"
    }
   ],
   "source": [
    "e1 = y - ypred\n",
    "e1, np.mean(e1)"
   ]
  },
  {
   "cell_type": "markdown",
   "metadata": {},
   "source": [
    "### visualizing prediction boundries"
   ]
  },
  {
   "cell_type": "code",
   "execution_count": 549,
   "metadata": {},
   "outputs": [
    {
     "data": {
      "image/png": "[encoded data removed]",
      "text/plain": [
       "<matplotlib.figure.Figure at 0x1c27851e48>"
      ]
     },
     "metadata": {},
     "output_type": "display_data"
    }
   ],
   "source": [
    "order = np.argsort(x)\n",
    "xs = np.array(x)[order]\n",
    "ys = np.array(ypred)[order]\n",
    "\n",
    "plt.figure()\n",
    "plt.scatter(x,y)\n",
    "plt.plot(xs, ys, 'r')\n",
    "plt.title('prediction partition 1')\n",
    "plt.show()"
   ]
  },
  {
   "cell_type": "code",
   "execution_count": 550,
   "metadata": {},
   "outputs": [
    {
     "data": {
      "text/plain": [
       "Text(0.5,1,'residuals vs. x')"
      ]
     },
     "execution_count": 550,
     "metadata": {},
     "output_type": "execute_result"
    },
    {
     "data": {
      "image/png": "[encoded data removed]",
      "text/plain": [
       "<matplotlib.figure.Figure at 0x1c2791df98>"
      ]
     },
     "metadata": {},
     "output_type": "display_data"
    }
   ],
   "source": [
    "f, (ax1, ax2) = plt.subplots(1, 2, sharey=True, figsize = (10,5))\n",
    "\n",
    "ax1.scatter(x,y)\n",
    "ax1.plot(xs, ys, 'r')\n",
    "ax1.set_title('prediction partition 1')\n",
    "\n",
    "ax2.scatter(x, e1)\n",
    "ax2.set_title('residuals vs. x')"
   ]
  },
  {
   "cell_type": "markdown",
   "metadata": {},
   "source": [
    "## 2nd tree"
   ]
  },
  {
   "cell_type": "markdown",
   "metadata": {},
   "source": [
    "Before continuing further, I would like to remind you about the statistical assumptions that we have for our linear models. Although, tree based models are not based on any assumptions. But there is one very logical assumption which if True would make the model better. \n",
    "\n",
    "The assumption is `mean of residuals = 0`  \n",
    "\n",
    "The intuition is that our residuals (errors) should be at a stage that they can't be modelled. If we can model residuals (if there is some pattern in residuals), that means that there is still scope of improvement in our model.  \n",
    "\n",
    "See the RHS plot above. If we see a pattern on residuals, it means that our residuals are not random (random normal) and can be modelled.  \n",
    "\n",
    "`Gradient boosting` just leverages this minute logic. `It tries to model those prediction error of our weak model and tries to make it random with mean = 0` . Let's do this now. \n",
    "\n"
   ]
  },
  {
   "cell_type": "code",
   "execution_count": 551,
   "metadata": {},
   "outputs": [
    {
     "data": {
      "text/plain": [
       "array([  2.283  ,   2.20672,   1.82932,   3.54827,   2.85661,   1.13398,   1.03202,   3.72086,   2.15735,\n",
       "         2.40974,   2.45886,   3.64065,   1.22602,   1.57003,   1.42751,  -0.82508,  -1.92508,  -2.52508,\n",
       "        -3.42508,  -5.92508,  -6.72508,  -3.92508,  -3.12508,  -2.82508,   0.07492,  -1.92508,  -0.42508,\n",
       "        41.22323,  25.22323,  27.22323,  -4.01086,  -8.73475,   0.42196,  -8.65424,  -2.52271,  -3.37576,\n",
       "        -8.60677,  -8.91923,  -5.9057 ,  -2.25106,  -3.01633,  -2.99935,  -3.81597,  -3.86442,  -5.1159 ,\n",
       "        -4.95862,  -3.8211 ,  -3.24079,  -6.68903,  -3.58906])"
      ]
     },
     "execution_count": 551,
     "metadata": {},
     "output_type": "execute_result"
    }
   ],
   "source": [
    "# our new y will be residuals (i.e. let's model residuals from our independent variables)  \n",
    "e1 "
   ]
  },
  {
   "cell_type": "code",
   "execution_count": 552,
   "metadata": {},
   "outputs": [],
   "source": [
    "tree2 = SimpleDecisionTree(x,e1)"
   ]
  },
  {
   "cell_type": "code",
   "execution_count": 553,
   "metadata": {},
   "outputs": [],
   "source": [
    "tree2.find_btr_splt()"
   ]
  },
  {
   "cell_type": "code",
   "execution_count": 554,
   "metadata": {},
   "outputs": [
    {
     "data": {
      "text/plain": [
       "n: 50; score:367.32426202250673; split:26"
      ]
     },
     "execution_count": 554,
     "metadata": {},
     "output_type": "execute_result"
    }
   ],
   "source": [
    "tree2"
   ]
  },
  {
   "cell_type": "markdown",
   "metadata": {},
   "source": [
    "index where it got split"
   ]
  },
  {
   "cell_type": "code",
   "execution_count": 555,
   "metadata": {},
   "outputs": [
    {
     "name": "stdout",
     "output_type": "stream",
     "text": [
      "26\n"
     ]
    }
   ],
   "source": [
    "r = np.where(x == tree.split)[0][0]\n",
    "print(r)\n",
    "\n",
    "n = len(y)"
   ]
  },
  {
   "cell_type": "code",
   "execution_count": 556,
   "metadata": {},
   "outputs": [],
   "source": [
    "left_idx = np.where(x <= tree.split)[0]\n",
    "right_idx = np.where(x > tree.split)[0]"
   ]
  },
  {
   "cell_type": "code",
   "execution_count": 557,
   "metadata": {},
   "outputs": [],
   "source": [
    "epred = np.zeros(n)\n",
    "np.put(epred, left_idx, np.repeat(np.mean(e1[left_idx]), r))  # replace left side mean y\n",
    "np.put(epred, right_idx, np.repeat(np.mean(e1[right_idx]), n-r))  # right side mean y"
   ]
  },
  {
   "cell_type": "code",
   "execution_count": 558,
   "metadata": {},
   "outputs": [
    {
     "data": {
      "text/plain": [
       "array([ 0,  1,  2,  3,  4,  5,  6,  7,  8,  9, 10, 11, 12, 13, 14, 15, 16, 17, 18, 19, 20, 21, 22, 23, 24, 25,\n",
       "       26, 27, 28, 29, 30, 31, 32, 33, 34, 35, 36, 37, 38, 39, 40, 41, 42, 43, 44, 45, 46, 47, 48, 49])"
      ]
     },
     "execution_count": 558,
     "metadata": {},
     "output_type": "execute_result"
    }
   ],
   "source": [
    "x"
   ]
  },
  {
   "cell_type": "markdown",
   "metadata": {},
   "source": [
    "### Why are these 0 ? Then what is point of this algo?"
   ]
  },
  {
   "cell_type": "code",
   "execution_count": 559,
   "metadata": {
    "scrolled": true
   },
   "outputs": [
    {
     "data": {
      "text/plain": [
       "array([ 0.,  0.,  0.,  0.,  0.,  0.,  0.,  0.,  0.,  0.,  0.,  0.,  0.,  0.,  0.,  0.,  0.,  0.,  0.,  0.,\n",
       "        0.,  0.,  0.,  0.,  0.,  0.,  0., -0., -0., -0., -0., -0., -0., -0., -0., -0., -0., -0., -0., -0.,\n",
       "       -0., -0., -0., -0., -0., -0., -0., -0., -0., -0.])"
      ]
     },
     "execution_count": 559,
     "metadata": {},
     "output_type": "execute_result"
    }
   ],
   "source": [
    "epred"
   ]
  },
  {
   "cell_type": "code",
   "execution_count": 561,
   "metadata": {},
   "outputs": [],
   "source": [
    "e2 = e1 - epred"
   ]
  },
  {
   "cell_type": "markdown",
   "metadata": {},
   "source": [
    "### Visualizing  prediction boundries for 1st errors (not actual Ys)\n",
    "\n",
    "In order to find prediction of actual y, we can just add predicted values with predicted errors "
   ]
  },
  {
   "cell_type": "code",
   "execution_count": 562,
   "metadata": {},
   "outputs": [
    {
     "data": {
      "text/plain": [
       "Text(0.5,1,'residuals2 vs. x')"
      ]
     },
     "execution_count": 562,
     "metadata": {},
     "output_type": "execute_result"
    },
    {
     "data": {
      "image/png": "[encoded data removed]",
      "text/plain": [
       "<matplotlib.figure.Figure at 0x1c27bb3898>"
      ]
     },
     "metadata": {},
     "output_type": "display_data"
    }
   ],
   "source": [
    "order = np.argsort(x)\n",
    "xs = np.array(x)[order]\n",
    "ys = np.array(ypred + epred)[order]\n",
    "\n",
    "f, (ax1, ax2) = plt.subplots(1, 2, sharey=True, figsize = (10,5))\n",
    "\n",
    "ax1.scatter(x,y)\n",
    "ax1.plot(xs, ys, 'r')\n",
    "ax1.set_title('prediction partition 2')\n",
    "\n",
    "ax2.scatter(x, e2)\n",
    "ax2.set_title('residuals2 vs. x')"
   ]
  },
  {
   "cell_type": "markdown",
   "metadata": {},
   "source": [
    "### why is it not improving after boosting? why predicted values of errors always 0?"
   ]
  }
 ],
 "metadata": {
  "kernelspec": {
   "display_name": "Python 3",
   "language": "python",
   "name": "python3"
  },
  "language_info": {
   "codemirror_mode": {
    "name": "ipython",
    "version": 3
   },
   "file_extension": ".py",
   "mimetype": "text/x-python",
   "name": "python",
   "nbconvert_exporter": "python",
   "pygments_lexer": "ipython3",
   "version": "3.6.3"
  }
 },
 "nbformat": 4,
 "nbformat_minor": 2
}
